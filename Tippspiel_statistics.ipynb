{
  "nbformat": 4,
  "nbformat_minor": 0,
  "metadata": {
    "colab": {
      "name": "Tippspiel_statistics.ipynb",
      "version": "0.3.2",
      "provenance": [],
      "collapsed_sections": [],
      "include_colab_link": true
    },
    "kernelspec": {
      "name": "python3",
      "display_name": "Python 3"
    }
  },
  "cells": [
    {
      "cell_type": "markdown",
      "metadata": {
        "id": "view-in-github",
        "colab_type": "text"
      },
      "source": [
        "[View in Colaboratory](https://colab.research.google.com/github/overdrivek/game_stats/blob/master/Tippspiel_statistics.ipynb)"
      ]
    },
    {
      "metadata": {
        "id": "CNjfRKM-aycM",
        "colab_type": "code",
        "colab": {
          "base_uri": "https://localhost:8080/",
          "height": 510
        },
        "outputId": "f3e8ab15-acff-4321-8b41-79ede762a61b"
      },
      "cell_type": "code",
      "source": [
        "!pip install gspread==2.1.1\n",
        "!pip install gspread-dataframe==2.1.0\n",
        "!pip install pandas==0.22.0\n",
        "\n",
        "#import packages and authorize connection to Google account:\n",
        "import pandas as pd\n",
        "import gspread\n",
        "from gspread_dataframe import get_as_dataframe, set_with_dataframe\n",
        "from google.colab import auth\n",
        "\n"
      ],
      "execution_count": 16,
      "outputs": [
        {
          "output_type": "stream",
          "text": [
            "Collecting gspread==2.1.1\n",
            "  Downloading https://files.pythonhosted.org/packages/4f/cb/fcde9feed68b6db611d84619fb486140ad1d48daabbb4aaf3eb716313d25/gspread-2.1.1-py3-none-any.whl\n",
            "Requirement already satisfied: requests>=2.2.1 in /usr/local/lib/python3.6/dist-packages (from gspread==2.1.1) (2.18.4)\n",
            "Requirement already satisfied: chardet<3.1.0,>=3.0.2 in /usr/local/lib/python3.6/dist-packages (from requests>=2.2.1->gspread==2.1.1) (3.0.4)\n",
            "Requirement already satisfied: urllib3<1.23,>=1.21.1 in /usr/local/lib/python3.6/dist-packages (from requests>=2.2.1->gspread==2.1.1) (1.22)\n",
            "Requirement already satisfied: idna<2.7,>=2.5 in /usr/local/lib/python3.6/dist-packages (from requests>=2.2.1->gspread==2.1.1) (2.6)\n",
            "Requirement already satisfied: certifi>=2017.4.17 in /usr/local/lib/python3.6/dist-packages (from requests>=2.2.1->gspread==2.1.1) (2018.4.16)\n",
            "Installing collected packages: gspread\n",
            "Successfully installed gspread-2.1.1\n",
            "Collecting gspread-dataframe==2.1.0\n",
            "  Downloading https://files.pythonhosted.org/packages/f2/ca/19386116aa52e731fc96a780b458e39a81b544bb9cbb601030ee02450083/gspread_dataframe-2.1.0-py2.py3-none-any.whl\n",
            "Requirement already satisfied: gspread in /usr/local/lib/python3.6/dist-packages (from gspread-dataframe==2.1.0) (2.1.1)\n",
            "Requirement already satisfied: pandas>=0.14.0 in /usr/local/lib/python3.6/dist-packages (from gspread-dataframe==2.1.0) (0.22.0)\n",
            "Requirement already satisfied: requests>=2.2.1 in /usr/local/lib/python3.6/dist-packages (from gspread->gspread-dataframe==2.1.0) (2.18.4)\n",
            "Requirement already satisfied: python-dateutil>=2 in /usr/local/lib/python3.6/dist-packages (from pandas>=0.14.0->gspread-dataframe==2.1.0) (2.5.3)\n",
            "Requirement already satisfied: numpy>=1.9.0 in /usr/local/lib/python3.6/dist-packages (from pandas>=0.14.0->gspread-dataframe==2.1.0) (1.14.5)\n",
            "Requirement already satisfied: pytz>=2011k in /usr/local/lib/python3.6/dist-packages (from pandas>=0.14.0->gspread-dataframe==2.1.0) (2018.4)\n",
            "Requirement already satisfied: idna<2.7,>=2.5 in /usr/local/lib/python3.6/dist-packages (from requests>=2.2.1->gspread->gspread-dataframe==2.1.0) (2.6)\n",
            "Requirement already satisfied: certifi>=2017.4.17 in /usr/local/lib/python3.6/dist-packages (from requests>=2.2.1->gspread->gspread-dataframe==2.1.0) (2018.4.16)\n",
            "Requirement already satisfied: chardet<3.1.0,>=3.0.2 in /usr/local/lib/python3.6/dist-packages (from requests>=2.2.1->gspread->gspread-dataframe==2.1.0) (3.0.4)\n",
            "Requirement already satisfied: urllib3<1.23,>=1.21.1 in /usr/local/lib/python3.6/dist-packages (from requests>=2.2.1->gspread->gspread-dataframe==2.1.0) (1.22)\n",
            "Requirement already satisfied: six>=1.5 in /usr/local/lib/python3.6/dist-packages (from python-dateutil>=2->pandas>=0.14.0->gspread-dataframe==2.1.0) (1.11.0)\n",
            "Installing collected packages: gspread-dataframe\n",
            "Successfully installed gspread-dataframe-2.1.0\n",
            "Requirement already satisfied: pandas==0.22.0 in /usr/local/lib/python3.6/dist-packages (0.22.0)\n",
            "Requirement already satisfied: numpy>=1.9.0 in /usr/local/lib/python3.6/dist-packages (from pandas==0.22.0) (1.14.5)\n",
            "Requirement already satisfied: python-dateutil>=2 in /usr/local/lib/python3.6/dist-packages (from pandas==0.22.0) (2.5.3)\n",
            "Requirement already satisfied: pytz>=2011k in /usr/local/lib/python3.6/dist-packages (from pandas==0.22.0) (2018.4)\n",
            "Requirement already satisfied: six>=1.5 in /usr/local/lib/python3.6/dist-packages (from python-dateutil>=2->pandas==0.22.0) (1.11.0)\n"
          ],
          "name": "stdout"
        }
      ]
    },
    {
      "metadata": {
        "id": "3g8VTFW4d100",
        "colab_type": "code",
        "colab": {
          "base_uri": "https://localhost:8080/",
          "height": 37
        },
        "outputId": "6b954cad-3b64-4656-ca13-e7f63ff07ab9"
      },
      "cell_type": "code",
      "source": [
        "auth.authenticate_user()  # verify your account to read files which you have access to. Make sure you have permission to read the file!\n",
        "from oauth2client.client import GoogleCredentials\n",
        "gc = gspread.authorize(GoogleCredentials.get_application_default()) "
      ],
      "execution_count": 20,
      "outputs": []
    },
    {
      "metadata": {
        "id": "uj3x7zCOa4wB",
        "colab_type": "code",
        "colab": {
          "base_uri": "https://localhost:8080/",
          "height": 17
        },
        "outputId": "7ac61db0-4923-4791-d42b-81895200ae9f"
      },
      "cell_type": "code",
      "source": [
        "spreadsheet = gc.open(\"world_cup_table_gsheets\") # Open file using its name. Use this if the file is already anywhere in your drive\n",
        "\n"
      ],
      "execution_count": 25,
      "outputs": []
    },
    {
      "metadata": {
        "id": "VF-TQv1mfa_v",
        "colab_type": "code",
        "colab": {
          "base_uri": "https://localhost:8080/",
          "height": 37
        },
        "outputId": "2cc88f02-16fd-4bce-8087-c55c564a8ec4"
      },
      "cell_type": "code",
      "source": [
        "sheet =  spreadsheet.get_worksheet(0)  # 0 means the first sheet in the file\n",
        "df2 = pd.DataFrame(sheet.get_all_records())\n",
        "all_records = sheet.get_all_records()\n"
      ],
      "execution_count": 99,
      "outputs": []
    },
    {
      "metadata": {
        "id": "TwlaAQb1fvHx",
        "colab_type": "code",
        "colab": {
          "base_uri": "https://localhost:8080/",
          "height": 34
        },
        "outputId": "fa01c60e-b1e6-4466-eca7-14b89b416109"
      },
      "cell_type": "code",
      "source": [
        "import numpy as np\n",
        "df2_np = df2.values\n"
      ],
      "execution_count": 81,
      "outputs": [
        {
          "output_type": "stream",
          "text": [
            "2:2\n"
          ],
          "name": "stdout"
        }
      ]
    },
    {
      "metadata": {
        "id": "CE1oESTSjsSl",
        "colab_type": "code",
        "colab": {
          "base_uri": "https://localhost:8080/",
          "height": 34
        },
        "outputId": "a16e5cf9-5884-4190-db7c-e36d96822723"
      },
      "cell_type": "code",
      "source": [
        "print(sheet.col_values(2))"
      ],
      "execution_count": 108,
      "outputs": [
        {
          "output_type": "stream",
          "text": [
            "['Germany', '', '', '', '', '', '', '', '', '', '', '', '', '', '', '', '', '', '', '', '', '', '', '', '', '', '', '', '', '', '2:0']\n"
          ],
          "name": "stdout"
        }
      ]
    }
  ]
}