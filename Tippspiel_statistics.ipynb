{
 "cells": [
  {
   "cell_type": "markdown",
   "metadata": {},
   "source": [
    "# Tippspiel Statistics"
   ]
  },
  {
   "cell_type": "markdown",
   "metadata": {},
   "source": [
    "Now that the world cup is over and the dissappointment of Germany exiting the world cup early has moved on from being a [statistical blackswan](https://en.wikipedia.org/wiki/Black_swan_theory) event to an [anomaly](https://en.wikipedia.org/wiki/Anomaly_detection), a good closure for us fans would be to look back and check out our football fairness and prejudices with some graphs and numbers. "
   ]
  },
  {
   "cell_type": "code",
   "execution_count": 1,
   "metadata": {},
   "outputs": [
    {
     "data": {
      "text/html": [
       "<img src=\"https://dougbelshaw.com/blog/wp-content/uploads/2009/05/dilbert_pie_chart.jpg\"/>"
      ],
      "text/plain": [
       "<IPython.core.display.Image object>"
      ]
     },
     "execution_count": 1,
     "metadata": {},
     "output_type": "execute_result"
    }
   ],
   "source": [
    "# Power of Charts\n",
    "from IPython.display import Image\n",
    "Image(url= \"https://dougbelshaw.com/blog/wp-content/uploads/2009/05/dilbert_pie_chart.jpg\")"
   ]
  },
  {
   "cell_type": "markdown",
   "metadata": {},
   "source": [
    "# Getippt AEN WM 2018 "
   ]
  },
  {
   "cell_type": "code",
   "execution_count": 2,
   "metadata": {},
   "outputs": [
    {
     "name": "stderr",
     "output_type": "stream",
     "text": [
      "D:\\PythonProjects\\game_stats\\python_scripts\\player_stats.py:116: RuntimeWarning: invalid value encountered in sign\n",
      "  elif np.sign(orig_score[0]-orig_score[1])==np.sign(pred_score[0]-pred_score[1]):\n",
      "D:\\PythonProjects\\game_stats\\python_scripts\\player_stats.py:80: RuntimeWarning: invalid value encountered in greater_equal\n",
      "  self.number_selfbelief_genius_tips = len(np.where(np.abs(diff_games) >= 4)[0])\n"
     ]
    }
   ],
   "source": [
    "import os\n",
    "from python_scripts.excel_read_test import tippspiel as tp_op\n",
    "tp_stats = tp_op()"
   ]
  },
  {
   "cell_type": "markdown",
   "metadata": {},
   "source": [
    "Players:"
   ]
  },
  {
   "cell_type": "code",
   "execution_count": 3,
   "metadata": {},
   "outputs": [
    {
     "name": "stdout",
     "output_type": "stream",
     "text": [
      "Number of players =  13\n",
      "max09\n",
      "ThomasSch\n",
      "Christian586\n",
      "ThomasB\n",
      "Cornelius\n",
      "Lieseball\n",
      "GregorB\n",
      "Krishna\n",
      "Oeli\n",
      "Matthias_G\n",
      "HHalfmann\n",
      "Eric90\n",
      "NilsJ\n"
     ]
    }
   ],
   "source": [
    "number_players = len(tp_stats.player_list)\n",
    "print(\"Number of players = \",number_players)\n",
    "for player in tp_stats.player_list:\n",
    "    print(player)"
   ]
  },
  {
   "cell_type": "code",
   "execution_count": 4,
   "metadata": {
    "scrolled": true
   },
   "outputs": [
    {
     "data": {
      "text/html": [
       "<p>Failed to display Jupyter Widget of type <code>interactive</code>.</p>\n",
       "<p>\n",
       "  If you're reading this message in the Jupyter Notebook or JupyterLab Notebook, it may mean\n",
       "  that the widgets JavaScript is still loading. If this message persists, it\n",
       "  likely means that the widgets JavaScript library is either not installed or\n",
       "  not enabled. See the <a href=\"https://ipywidgets.readthedocs.io/en/stable/user_install.html\">Jupyter\n",
       "  Widgets Documentation</a> for setup instructions.\n",
       "</p>\n",
       "<p>\n",
       "  If you're reading this message in another frontend (for example, a static\n",
       "  rendering on GitHub or <a href=\"https://nbviewer.jupyter.org/\">NBViewer</a>),\n",
       "  it may mean that your frontend doesn't currently support widgets.\n",
       "</p>\n"
      ],
      "text/plain": [
       "interactive(children=(IntSlider(value=7, description='player', max=14), Output()), _dom_classes=('widget-interact',))"
      ]
     },
     "metadata": {},
     "output_type": "execute_result"
    },
    {
     "data": {
      "text/plain": [
       "<function __main__.plot_vals>"
      ]
     },
     "execution_count": 4,
     "metadata": {},
     "output_type": "execute_result"
    }
   ],
   "source": [
    "from ipywidgets import interact\n",
    "import matplotlib.pyplot as plt\n",
    "from matplotlib.font_manager import FontProperties\n",
    "\n",
    "def plot_vals(player):\n",
    "    n = player\n",
    "    #fig = plt.figure(figsize=(8,6))\n",
    "    for i,player_name in enumerate(tp_stats.player_list):\n",
    "        if n != 0 and i != n-1:\n",
    "            continue\n",
    "        player= tp_stats.player_list[player_name]\n",
    "        player_pts = player.exact_prediction_array\n",
    "        #xnew = np.linspace(0,len(player_pts),100)\n",
    "        #xvals = np.arange(0,len(player_pts))\n",
    "        #ynew = spline(xvals,player_pts,xnew)\n",
    "        plt.plot(range(len(player_pts)),player_pts,label=player.name)\n",
    "        #plt.plot(xnew, ynew, label=player.name)\n",
    "        if n == 0:\n",
    "            plt.legend(loc='best',bbox_to_anchor=(1, 1))\n",
    "        else:\n",
    "            plt.title(player_name)\n",
    "        plt.grid(True)\n",
    "        plt.xlabel('Game')\n",
    "        plt.ylabel('# exact predictions')\n",
    "        plt.xlim([0,50])\n",
    "        plt.ylim([0,10])\n",
    "            \n",
    "interact(plot_vals,player=(0,number_players+1))"
   ]
  },
  {
   "cell_type": "code",
   "execution_count": 5,
   "metadata": {},
   "outputs": [
    {
     "data": {
      "text/html": [
       "<script>\n",
       "code_show=true; \n",
       "function code_toggle() {\n",
       " if (code_show){\n",
       " $('div.input').hide();\n",
       " } else {\n",
       " $('div.input').show();\n",
       " }\n",
       " code_show = !code_show\n",
       "} \n",
       "$( document ).ready(code_toggle);\n",
       "</script>\n",
       "<form action=\"javascript:code_toggle()\"><input type=\"submit\" value=\"Click here to toggle on/off the raw code.\"></form>"
      ],
      "text/plain": [
       "<IPython.core.display.HTML object>"
      ]
     },
     "execution_count": 5,
     "metadata": {},
     "output_type": "execute_result"
    }
   ],
   "source": [
    "from IPython.display import HTML\n",
    "HTML('''<script>\n",
    "code_show=true; \n",
    "function code_toggle() {\n",
    " if (code_show){\n",
    " $('div.input').hide();\n",
    " } else {\n",
    " $('div.input').show();\n",
    " }\n",
    " code_show = !code_show\n",
    "} \n",
    "$( document ).ready(code_toggle);\n",
    "</script>\n",
    "<form action=\"javascript:code_toggle()\"><input type=\"submit\" value=\"Click here to toggle on/off the raw code.\"></form>''')\n",
    "#import warnings\n",
    "#warnings.filterwarnings('ignore')"
   ]
  }
 ],
 "metadata": {
  "colab": {
   "collapsed_sections": [],
   "include_colab_link": true,
   "name": "Tippspiel_statistics.ipynb",
   "provenance": [],
   "version": "0.3.2"
  },
  "kernelspec": {
   "display_name": "Python 3",
   "language": "python",
   "name": "python3"
  },
  "language_info": {
   "codemirror_mode": {
    "name": "ipython",
    "version": 3.0
   },
   "file_extension": ".py",
   "mimetype": "text/x-python",
   "name": "python",
   "nbconvert_exporter": "python",
   "pygments_lexer": "ipython3",
   "version": "3.6.4"
  }
 },
 "nbformat": 4,
 "nbformat_minor": 0
}